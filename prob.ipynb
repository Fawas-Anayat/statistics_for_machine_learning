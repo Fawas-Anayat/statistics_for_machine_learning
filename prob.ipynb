{
 "cells": [
  {
   "cell_type": "markdown",
   "id": "aa2c37ba",
   "metadata": {},
   "source": [
    "## Learning Statistics for the machine learning\n",
    "I am learning statistics for ML.After learning the theoritical concepts ,I apply all the concepts through python.In this file are the codes for the concepts related to the probability"
   ]
  },
  {
   "cell_type": "markdown",
   "id": "ac19fa92",
   "metadata": {},
   "source": [
    "#### problem\n",
    "You have a bag with 5 red balls, 3 blue balls, and 2 green balls (10 balls total).\n",
    "\n",
    "Write Python code to simulate 10,000 random draws from the bag (each time drawing one ball and putting it back).\n",
    "\n",
    "Estimate the probability of drawing:\n",
    "\n",
    "a red ball\n",
    "\n",
    "a blue ball\n",
    "\n",
    "a green ball"
   ]
  },
  {
   "cell_type": "markdown",
   "id": "52342607",
   "metadata": {},
   "source": [
    "#### Solution"
   ]
  },
  {
   "cell_type": "code",
   "execution_count": 3,
   "id": "90757594",
   "metadata": {},
   "outputs": [],
   "source": [
    "import numpy as np"
   ]
  },
  {
   "cell_type": "code",
   "execution_count": 4,
   "id": "fd12e55e",
   "metadata": {},
   "outputs": [
    {
     "name": "stdout",
     "output_type": "stream",
     "text": [
      "the proab of Green is 0.2018\n",
      "the proab of blue is 0.3038\n",
      "the proab of Red is 0.4944\n"
     ]
    }
   ],
   "source": [
    "number_of_counts=10000\n",
    "outcomes={\n",
    "    'R':0,\n",
    "    'G':0,\n",
    "    'B':0\n",
    "}\n",
    "bag=['R','R','R','R','R','B','B','B','G','G']\n",
    "for _ in range(number_of_counts):\n",
    "    choice=np.random.choice(bag)\n",
    "    if choice=='R':\n",
    "        outcomes['R']+=1\n",
    "    elif choice=='G':\n",
    "        outcomes['G']+=1\n",
    "    elif choice=='B':\n",
    "        outcomes['B']+=1\n",
    "prob_G=outcomes['G']/number_of_counts\n",
    "prob_B=outcomes['B']/number_of_counts\n",
    "prob_R=outcomes['R']/number_of_counts\n",
    "print(f\"the proab of Green is {prob_G}\")\n",
    "print(f\"the proab of blue is {prob_B}\")\n",
    "print(f\"the proab of Red is {prob_R}\")\n"
   ]
  },
  {
   "cell_type": "markdown",
   "id": "d52bc943",
   "metadata": {},
   "source": [
    "### problem\n",
    "A bag contains:\n",
    "\n",
    "3 Red balls\n",
    "\n",
    "2 Blue balls\n",
    "\n",
    "1 Green ball\n",
    "(total = 6 balls).\n",
    "\n",
    "You draw one ball, do not put it back, and then draw another ball.\n",
    "\n",
    "👉 Question:\n",
    "What is the probability that the second ball is Blue given that the first ball was Red?"
   ]
  },
  {
   "cell_type": "markdown",
   "id": "7397ac4e",
   "metadata": {},
   "source": [
    "### Solution"
   ]
  },
  {
   "cell_type": "code",
   "execution_count": 5,
   "id": "4c62b00f",
   "metadata": {},
   "outputs": [
    {
     "name": "stdout",
     "output_type": "stream",
     "text": [
      "the probability of red is 0.5\n",
      "the probability of blue given that the first one blueis 0.4\n"
     ]
    }
   ],
   "source": [
    "bag=['R','R','R','B','B','G']\n",
    "## this is the case of the conditional probability therefore first i have to find the probability of the red ball\n",
    "proba_R=bag.count('R')/len(bag)\n",
    "bag.remove('R')\n",
    "proba_B=bag.count('B')/len(bag)\n",
    "print(f\"the probability of red is {proba_R}\")\n",
    "print(f\"the probability of blue given that the first one blueis {proba_B}\")"
   ]
  },
  {
   "cell_type": "markdown",
   "id": "72cf4b54",
   "metadata": {},
   "source": [
    "the above code is a random manual calculation of the probability for each of the ball.Following is how can we properly simulate the probabilities"
   ]
  },
  {
   "cell_type": "code",
   "execution_count": 6,
   "id": "5bfbdfae",
   "metadata": {},
   "outputs": [
    {
     "name": "stdout",
     "output_type": "stream",
     "text": [
      "The p( red ) = 0.4935\n",
      "The p(blue | red ) = 0.3872340425531915\n"
     ]
    }
   ],
   "source": [
    "bag=['R','R','R','B','B','G']\n",
    "numberOFcounts=10000\n",
    "count_for_red=0\n",
    "count_for_blue_given_red=0\n",
    "for _ in range(numberOFcounts):\n",
    "    draw=np.random.choice(bag,size=2,replace=False)\n",
    "    if draw[0]=='R':\n",
    "        count_for_red+=1\n",
    "        if draw[1]=='B':\n",
    "            count_for_blue_given_red+=1\n",
    "p_of_red=count_for_red/numberOFcounts\n",
    "p_of_Blue_afer_red=count_for_blue_given_red/count_for_red\n",
    "print(f\"The p( red ) = {p_of_red}\")\n",
    "print(f\"The p(blue | red ) = {p_of_Blue_afer_red}\")"
   ]
  },
  {
   "cell_type": "markdown",
   "id": "f4bd9d48",
   "metadata": {},
   "source": [
    "## Naive Bayes Theorem"
   ]
  },
  {
   "cell_type": "markdown",
   "id": "9db0f2f0",
   "metadata": {},
   "source": [
    "#### Problem\n",
    "We have a tiny dataset of emails labeled as spam or not spam.\n",
    "\n",
    "Spam emails often contain the word “win”.\n",
    "\n",
    "Not spam emails often contain the word “hello”.\n",
    "\n",
    "Here’s the training dataset:\n",
    "\n",
    "Email Text\tLabel  \n",
    "\"win lottery now\" spam  \t  \n",
    "\"hello friend\"\tnot spam  \n",
    "\"win money prize\"\tspam  \n",
    "\"hello how are you\"\tnot spam  \n",
    "\n",
    "Your task:\n",
    "Using Naive Bayes logic, compute whether the new email \"win hello\" is more likely spam or not spam."
   ]
  },
  {
   "cell_type": "markdown",
   "id": "d4abf3eb",
   "metadata": {},
   "source": [
    "#### Solution"
   ]
  },
  {
   "cell_type": "code",
   "execution_count": 7,
   "id": "b3ba5806",
   "metadata": {},
   "outputs": [
    {
     "name": "stdout",
     "output_type": "stream",
     "text": [
      "0.5\n"
     ]
    }
   ],
   "source": [
    "# first we have to calculate the probability of the spam and ham\n",
    "dataset={\n",
    "    'win lottery now':'spam',\n",
    "    'hello friend':'not spam',\n",
    "    'win money prize':'spam',\n",
    "    'hello how are you':'not spam'\n",
    "\n",
    "}\n",
    "count_of_spam=0\n",
    "count_of_ham=0\n",
    "val=list(dataset.values())\n",
    "for value in val:\n",
    "    if value=='spam':\n",
    "        count_of_spam+=1\n",
    "    elif value=='not spam':\n",
    "        count_of_ham+=1\n",
    "probab_spam=count_of_spam/len(dataset)\n",
    "probab_ham=count_of_ham/len(dataset)\n",
    "print(probab_ham)"
   ]
  },
  {
   "cell_type": "code",
   "execution_count": 8,
   "id": "f032747a",
   "metadata": {},
   "outputs": [
    {
     "name": "stdout",
     "output_type": "stream",
     "text": [
      "{'win lottery now': 'spam', 'win money prize': 'spam'}\n",
      "{'hello friend': 'not spam', 'hello how are you': 'not spam'}\n"
     ]
    }
   ],
   "source": [
    "spam_emails={}\n",
    "ham_emails={}\n",
    "for k,v in dataset.items():\n",
    "        if v == 'spam':\n",
    "            spam_emails[k]=v\n",
    "        elif v=='not spam':\n",
    "              ham_emails[k]=v\n",
    "print(spam_emails)\n",
    "print(ham_emails)"
   ]
  },
  {
   "cell_type": "code",
   "execution_count": 9,
   "id": "77b6f66e",
   "metadata": {},
   "outputs": [
    {
     "name": "stdout",
     "output_type": "stream",
     "text": [
      "2\n",
      "2\n"
     ]
    }
   ],
   "source": [
    "word='win'\n",
    "count=sum(1 for i in spam_emails.keys() if word in i)\n",
    "print(count)\n",
    "word2='hello'\n",
    "count2=sum(1 for j in ham_emails.keys() if word2 in j)\n",
    "print(count2)"
   ]
  },
  {
   "cell_type": "code",
   "execution_count": 10,
   "id": "11ebcf4e",
   "metadata": {},
   "outputs": [
    {
     "name": "stdout",
     "output_type": "stream",
     "text": [
      "the prob of hello given that the ham is 1.0\n",
      "the prob of win given that the spam is 1.0\n"
     ]
    }
   ],
   "source": [
    "p_0f_hello_given_ham=count2/count_of_ham\n",
    "p_of_win_given_spam=count/count_of_spam\n",
    "print(f\"the prob of hello given that the ham is {p_0f_hello_given_ham}\")\n",
    "print(f\"the prob of win given that the spam is {p_of_win_given_spam}\")"
   ]
  },
  {
   "cell_type": "code",
   "execution_count": null,
   "id": "2f53f784",
   "metadata": {},
   "outputs": [],
   "source": []
  }
 ],
 "metadata": {
  "kernelspec": {
   "display_name": "base",
   "language": "python",
   "name": "python3"
  },
  "language_info": {
   "codemirror_mode": {
    "name": "ipython",
    "version": 3
   },
   "file_extension": ".py",
   "mimetype": "text/x-python",
   "name": "python",
   "nbconvert_exporter": "python",
   "pygments_lexer": "ipython3",
   "version": "3.12.7"
  }
 },
 "nbformat": 4,
 "nbformat_minor": 5
}
