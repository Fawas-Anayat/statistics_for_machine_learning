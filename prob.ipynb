{
 "cells": [
  {
   "cell_type": "markdown",
   "id": "aa2c37ba",
   "metadata": {},
   "source": [
    "## Learning Statistics for the machine learning\n",
    "I am learning statistics for ML.After learning the theoritical concepts ,I apply all the concepts through python.In this file are the codes for the concepts related to the probability"
   ]
  },
  {
   "cell_type": "markdown",
   "id": "ac19fa92",
   "metadata": {},
   "source": [
    "#### problem\n",
    "You have a bag with 5 red balls, 3 blue balls, and 2 green balls (10 balls total).\n",
    "\n",
    "Write Python code to simulate 10,000 random draws from the bag (each time drawing one ball and putting it back).\n",
    "\n",
    "Estimate the probability of drawing:\n",
    "\n",
    "a red ball\n",
    "\n",
    "a blue ball\n",
    "\n",
    "a green ball"
   ]
  },
  {
   "cell_type": "markdown",
   "id": "52342607",
   "metadata": {},
   "source": [
    "#### Solution"
   ]
  },
  {
   "cell_type": "code",
   "execution_count": 1,
   "id": "90757594",
   "metadata": {},
   "outputs": [],
   "source": [
    "import numpy as np"
   ]
  },
  {
   "cell_type": "code",
   "execution_count": 4,
   "id": "fd12e55e",
   "metadata": {},
   "outputs": [
    {
     "name": "stdout",
     "output_type": "stream",
     "text": [
      "the proab of Green is 0.1941\n",
      "the proab of blue is 0.3056\n",
      "the proab of Red is 0.5003\n"
     ]
    }
   ],
   "source": [
    "number_of_counts=10000\n",
    "outcomes={\n",
    "    'R':0,\n",
    "    'G':0,\n",
    "    'B':0\n",
    "}\n",
    "bag=['R','R','R','R','R','B','B','B','G','G']\n",
    "for _ in range(number_of_counts):\n",
    "    choice=np.random.choice(bag)\n",
    "    if choice=='R':\n",
    "        outcomes['R']+=1\n",
    "    elif choice=='G':\n",
    "        outcomes['G']+=1\n",
    "    elif choice=='B':\n",
    "        outcomes['B']+=1\n",
    "prob_G=outcomes['G']/number_of_counts\n",
    "prob_B=outcomes['B']/number_of_counts\n",
    "prob_R=outcomes['R']/number_of_counts\n",
    "print(f\"the proab of Green is {prob_G}\")\n",
    "print(f\"the proab of blue is {prob_B}\")\n",
    "print(f\"the proab of Red is {prob_R}\")\n"
   ]
  },
  {
   "cell_type": "markdown",
   "id": "d52bc943",
   "metadata": {},
   "source": [
    "### problem\n",
    "A bag contains:\n",
    "\n",
    "3 Red balls\n",
    "\n",
    "2 Blue balls\n",
    "\n",
    "1 Green ball\n",
    "(total = 6 balls).\n",
    "\n",
    "You draw one ball, do not put it back, and then draw another ball.\n",
    "\n",
    "👉 Question:\n",
    "What is the probability that the second ball is Blue given that the first ball was Red?"
   ]
  },
  {
   "cell_type": "markdown",
   "id": "7397ac4e",
   "metadata": {},
   "source": [
    "### Solution"
   ]
  },
  {
   "cell_type": "code",
   "execution_count": 16,
   "id": "4c62b00f",
   "metadata": {},
   "outputs": [
    {
     "name": "stdout",
     "output_type": "stream",
     "text": [
      "the probability of red is 0.5\n",
      "the probability of blue given that the first one blueis 0.4\n"
     ]
    }
   ],
   "source": [
    "bag=['R','R','R','B','B','G']\n",
    "## this is the case of the conditional probability therefore first i have to find the probability of the red ball\n",
    "proba_R=bag.count('R')/len(bag)\n",
    "bag.remove('R')\n",
    "proba_B=bag.count('B')/len(bag)\n",
    "print(f\"the probability of red is {proba_R}\")\n",
    "print(f\"the probability of blue given that the first one blueis {proba_B}\")"
   ]
  },
  {
   "cell_type": "code",
   "execution_count": null,
   "id": "5bfbdfae",
   "metadata": {},
   "outputs": [],
   "source": []
  }
 ],
 "metadata": {
  "kernelspec": {
   "display_name": "base",
   "language": "python",
   "name": "python3"
  },
  "language_info": {
   "codemirror_mode": {
    "name": "ipython",
    "version": 3
   },
   "file_extension": ".py",
   "mimetype": "text/x-python",
   "name": "python",
   "nbconvert_exporter": "python",
   "pygments_lexer": "ipython3",
   "version": "3.12.7"
  }
 },
 "nbformat": 4,
 "nbformat_minor": 5
}
