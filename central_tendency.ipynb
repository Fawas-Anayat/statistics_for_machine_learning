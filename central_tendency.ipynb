{
 "cells": [
  {
   "cell_type": "markdown",
   "id": "3dde7a2b",
   "metadata": {},
   "source": [
    "### This file contains:\n",
    "-mean  \n",
    "-mode  \n",
    "-median \n",
    "-variance  \n",
    "-standard devieation  \n",
    "-percentiles  \n",
    "-quartiles  "
   ]
  },
  {
   "cell_type": "code",
   "execution_count": null,
   "id": "bed166bf",
   "metadata": {},
   "outputs": [],
   "source": [
    "import numpy as np\n",
    "from scipy.stats import gmean,hmean,iqr"
   ]
  },
  {
   "cell_type": "code",
   "execution_count": 1,
   "id": "2cd1b404",
   "metadata": {},
   "outputs": [
    {
     "name": "stdout",
     "output_type": "stream",
     "text": [
      "Data : [34, 56, 78, 98, 34, 12, 34, 56, 76, 34, 29]\n"
     ]
    }
   ],
   "source": [
    "data=[34,56,78,98,34,12,34,56,76,34,29]\n",
    "print(f\"Data : {data}\")"
   ]
  },
  {
   "cell_type": "code",
   "execution_count": 5,
   "id": "8e939a08",
   "metadata": {},
   "outputs": [
    {
     "name": "stdout",
     "output_type": "stream",
     "text": [
      "Arithmetic_mean_manual : 49.18181818181818\n",
      "Arithmetic_mean_function : 49.18181818181818\n"
     ]
    }
   ],
   "source": [
    "sum=0\n",
    "for i in data:\n",
    "    sum+=i\n",
    "Arithmetic_mean_manual=sum/len(data)\n",
    "Arithmetic_mean_function=np.mean(data)\n",
    "print(f\"Arithmetic_mean_manual : {Arithmetic_mean_function}\")\n",
    "print(f\"Arithmetic_mean_function : {Arithmetic_mean_function}\")"
   ]
  },
  {
   "cell_type": "markdown",
   "id": "fc57e7c6",
   "metadata": {},
   "source": [
    "## Geometric Mean"
   ]
  },
  {
   "cell_type": "markdown",
   "id": "b703ef4f",
   "metadata": {},
   "source": [
    "The geometric mean is best for the data when we have some progressive values like percentages or growth rates but just for the practice i am goiong to calculate it for the above datset"
   ]
  },
  {
   "cell_type": "code",
   "execution_count": 7,
   "id": "3c2ced27",
   "metadata": {},
   "outputs": [
    {
     "name": "stdout",
     "output_type": "stream",
     "text": [
      "gm_manual : 42.64014353005726\n",
      "gm_function: 42.640143530057266\n"
     ]
    }
   ],
   "source": [
    "prod=1\n",
    "for i in data:\n",
    "    prod*=i\n",
    "gm_manual=prod**(1/len(data))\n",
    "print(f'gm_manual : {gm_manual}')\n",
    "print(f'gm_function: {gmean(data)}')"
   ]
  },
  {
   "cell_type": "markdown",
   "id": "2b0ed9ef",
   "metadata": {},
   "source": [
    "### Harmonic Mean\n",
    "It is best use in the cases when the datsets have the ratios like finding the mean of the speeds"
   ]
  },
  {
   "cell_type": "code",
   "execution_count": 8,
   "id": "198e3e3e",
   "metadata": {},
   "outputs": [
    {
     "name": "stdout",
     "output_type": "stream",
     "text": [
      "hm_manual : 35.788660397407504\n",
      "hm_function : 35.788660397407504\n"
     ]
    }
   ],
   "source": [
    "h=0\n",
    "for i in data:\n",
    "    h+=(1/i)\n",
    "hm_manual=len(data)/h\n",
    "hm_function=hmean(data)\n",
    "print(f'hm_manual : {hm_manual}')\n",
    "print(f'hm_function : {hm_function}')"
   ]
  },
  {
   "cell_type": "markdown",
   "id": "6ead134c",
   "metadata": {},
   "source": [
    "### Weighted Mean\n",
    "This is best used when in the dataset we give more previlidge/importance to some variables than the others"
   ]
  },
  {
   "cell_type": "code",
   "execution_count": 18,
   "id": "b08eaa1a",
   "metadata": {},
   "outputs": [
    {
     "name": "stdout",
     "output_type": "stream",
     "text": [
      "the weighted mean manual is : 34.00000000000001\n",
      "the weighted mean function is  : 34.00000000000001\n"
     ]
    }
   ],
   "source": [
    "d=[23,45,67]\n",
    "w=[0.6,0.3,0.1]\n",
    "wm=0\n",
    "sum=0\n",
    "for i in range(len(d)):\n",
    "    wm+=(w[i]*d[i])\n",
    "    sum+=w[i]\n",
    "wm_manual=wm/sum\n",
    "wm_function=np.average(d,weights=w)\n",
    "print(f\"the weighted mean manual is : {wm_manual}\")\n",
    "print(f\"the weighted mean function is  : {wm_function}\")\n"
   ]
  },
  {
   "cell_type": "markdown",
   "id": "ff2b40a5",
   "metadata": {},
   "source": [
    "### Median\n",
    "The middle value of the sorted dataset"
   ]
  },
  {
   "cell_type": "code",
   "execution_count": null,
   "id": "9aa38983",
   "metadata": {},
   "outputs": [
    {
     "name": "stdout",
     "output_type": "stream",
     "text": [
      "Median manual : 45\n",
      "Median function : 45.0\n"
     ]
    }
   ],
   "source": [
    "numbers = [23,45,3,23,67,89,53,21,45,85,25,67,94,26,23]\n",
    "numbers.sort()\n",
    "n = len(numbers)\n",
    "\n",
    "if n % 2 != 0:  \n",
    "    median = numbers[n // 2]\n",
    "else:       \n",
    "    median = (numbers[n // 2 - 1] + numbers[n // 2]) / 2\n",
    "median_function=np.median(numbers)\n",
    "print(f\"Median manual : {median}\")\n",
    "print(f\"Median function : { median_function}\")"
   ]
  },
  {
   "cell_type": "markdown",
   "id": "ebeb0664",
   "metadata": {},
   "source": [
    "### Mode\n",
    "The most frequent value in the dataset"
   ]
  },
  {
   "cell_type": "code",
   "execution_count": 35,
   "id": "43e9809b",
   "metadata": {},
   "outputs": [
    {
     "name": "stdout",
     "output_type": "stream",
     "text": [
      "the value is 34 and the number of times it appears in the dataset is 4\n"
     ]
    }
   ],
   "source": [
    "l=[12,34,65,78,98,54,23,34,56,47,34,82,95,34]\n",
    "mode=None\n",
    "count=0\n",
    "for i in l:\n",
    "    if l.count(i)>count:\n",
    "        mode=i\n",
    "        count=l.count(i)\n",
    "print(f\"the value is {mode} and the number of times it appears in the dataset is {count}\")"
   ]
  },
  {
   "cell_type": "code",
   "execution_count": null,
   "id": "dd706863",
   "metadata": {},
   "outputs": [],
   "source": []
  }
 ],
 "metadata": {
  "kernelspec": {
   "display_name": "base",
   "language": "python",
   "name": "python3"
  },
  "language_info": {
   "codemirror_mode": {
    "name": "ipython",
    "version": 3
   },
   "file_extension": ".py",
   "mimetype": "text/x-python",
   "name": "python",
   "nbconvert_exporter": "python",
   "pygments_lexer": "ipython3",
   "version": "3.12.7"
  }
 },
 "nbformat": 4,
 "nbformat_minor": 5
}
