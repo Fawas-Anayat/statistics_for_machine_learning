{
 "cells": [
  {
   "cell_type": "markdown",
   "id": "3d320511",
   "metadata": {},
   "source": [
    "### Measure of the disperson\n",
    "This file has the code for the topics that explains the spread of the data and has the following topics:\n",
    "-Quartiles  \n",
    "-percentiles  \n",
    "-Inter Quartile Range  \n",
    "-Variance  \n",
    "-Standard deviation  \n",
    "-Range  "
   ]
  },
  {
   "cell_type": "markdown",
   "id": "66e374e2",
   "metadata": {},
   "source": []
  }
 ],
 "metadata": {
  "language_info": {
   "name": "python"
  }
 },
 "nbformat": 4,
 "nbformat_minor": 5
}
