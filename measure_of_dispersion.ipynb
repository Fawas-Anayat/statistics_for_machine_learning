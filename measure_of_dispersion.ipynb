{
 "cells": [
  {
   "cell_type": "markdown",
   "id": "3d320511",
   "metadata": {},
   "source": [
    "### Measure of the dispersion\n",
    "This file has the code for the topics that explains the spread of the data and has the following topics:\n",
    "-Quartiles  \n",
    "-percentiles  \n",
    "-Inter Quartile Range  \n",
    "-Variance  \n",
    "-Standard deviation  \n",
    "-Range  "
   ]
  },
  {
   "cell_type": "markdown",
   "id": "4c05eb54",
   "metadata": {},
   "source": [
    "### Range\n",
    "it tells us about the total spread of the data.We calculate it by subtracting the minumum quantity from maximum"
   ]
  },
  {
   "cell_type": "code",
   "execution_count": 24,
   "id": "5615179b",
   "metadata": {},
   "outputs": [],
   "source": [
    "import numpy as np\n",
    "from scipy.stats import iqr"
   ]
  },
  {
   "cell_type": "code",
   "execution_count": null,
   "id": "bbc0e463",
   "metadata": {},
   "outputs": [
    {
     "name": "stdout",
     "output_type": "stream",
     "text": [
      "the range is 76\n"
     ]
    }
   ],
   "source": [
    "data=[23,45,75,97,35,68,90,23,98,22,56,78,23]\n",
    "r=np.max(data)-np.min(data)\n",
    "print(f\"the range is {r}\")"
   ]
  },
  {
   "cell_type": "markdown",
   "id": "c2df5573",
   "metadata": {},
   "source": [
    "### Quartiles\n",
    "It divides the whole data into four equal parts"
   ]
  },
  {
   "cell_type": "code",
   "execution_count": 19,
   "id": "22eb17b0",
   "metadata": {},
   "outputs": [
    {
     "name": "stdout",
     "output_type": "stream",
     "text": [
      "the first quartile is : 23.0\n",
      "the second quartile is 56.0\n",
      "the third quartile is 78.0\n"
     ]
    }
   ],
   "source": [
    "Q=np.quantile(data,[0.25,0.50,.75])\n",
    "print(f\"the first quartile is : {Q[0]}\")\n",
    "print(f\"the second quartile is {Q[1]}\")\n",
    "print(f\"the third quartile is {Q[2]}\")"
   ]
  },
  {
   "cell_type": "markdown",
   "id": "f0ebed82",
   "metadata": {},
   "source": [
    "### Percentile\n",
    "It divides the data into 100 equal part"
   ]
  },
  {
   "cell_type": "code",
   "execution_count": 22,
   "id": "bae56dfa",
   "metadata": {},
   "outputs": [
    {
     "name": "stdout",
     "output_type": "stream",
     "text": [
      "98.0\n"
     ]
    }
   ],
   "source": [
    "P=np.percentile(data,100)\n",
    "print(P)"
   ]
  },
  {
   "cell_type": "markdown",
   "id": "725b1f41",
   "metadata": {},
   "source": [
    "### Inter Quartile Range\n",
    "It tells us that how much is the central position of our data is clustered.  \n",
    "The large iqr value means that the values are more spread out while   \n",
    "small value means that the central values are tightly clustered together"
   ]
  },
  {
   "cell_type": "code",
   "execution_count": 26,
   "id": "4d20d3ce",
   "metadata": {},
   "outputs": [
    {
     "name": "stdout",
     "output_type": "stream",
     "text": [
      "55.0\n"
     ]
    }
   ],
   "source": [
    "IQR=iqr(data)\n",
    "print(IQR)"
   ]
  },
  {
   "cell_type": "code",
   "execution_count": null,
   "id": "5669c20f",
   "metadata": {},
   "outputs": [],
   "source": []
  }
 ],
 "metadata": {
  "kernelspec": {
   "display_name": "base",
   "language": "python",
   "name": "python3"
  },
  "language_info": {
   "codemirror_mode": {
    "name": "ipython",
    "version": 3
   },
   "file_extension": ".py",
   "mimetype": "text/x-python",
   "name": "python",
   "nbconvert_exporter": "python",
   "pygments_lexer": "ipython3",
   "version": "3.12.7"
  }
 },
 "nbformat": 4,
 "nbformat_minor": 5
}
