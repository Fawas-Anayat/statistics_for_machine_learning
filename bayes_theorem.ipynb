{
 "cells": [
  {
   "cell_type": "markdown",
   "id": "9b21f9a1",
   "metadata": {},
   "source": [
    "### Bayes Theorem"
   ]
  },
  {
   "cell_type": "markdown",
   "id": "7b497872",
   "metadata": {},
   "source": [
    "#### Problem\n",
    "A factory produces light bulbs from two machines:\n",
    "\n",
    "Machine A produces 60% of the bulbs.\n",
    "\n",
    "Machine B produces 40% of the bulbs.\n",
    "\n",
    "The probability that a bulb is defective:\n",
    "\n",
    "From Machine A = 1% (0.01)\n",
    "\n",
    "From Machine B = 2% (0.02)\n",
    "\n",
    "Now, suppose a bulb is chosen at random, and it turns out to be defective.\n",
    "\n",
    " Question: What is the probability that this defective bulb was produced by Machine A?\n"
   ]
  },
  {
   "cell_type": "markdown",
   "id": "95adc16b",
   "metadata": {},
   "source": [
    "#### Solution"
   ]
  },
  {
   "cell_type": "code",
   "execution_count": 2,
   "id": "61809758",
   "metadata": {},
   "outputs": [
    {
     "name": "stdout",
     "output_type": "stream",
     "text": [
      "the probability is 0.42857142857142855\n"
     ]
    }
   ],
   "source": [
    "p_A = 0.60\n",
    "p_B = 0.40\n",
    "defective_A = 0.01\n",
    "defective_B = 0.02\n",
    "\n",
    "p_D = (defective_A * p_A) + (defective_B * p_B)\n",
    "# Bayes theorem\n",
    "p_A_given_D = (defective_A * p_A) / p_D\n",
    "print(f\"the probability is {p_A_given_D}\")"
   ]
  }
 ],
 "metadata": {
  "kernelspec": {
   "display_name": "base",
   "language": "python",
   "name": "python3"
  },
  "language_info": {
   "codemirror_mode": {
    "name": "ipython",
    "version": 3
   },
   "file_extension": ".py",
   "mimetype": "text/x-python",
   "name": "python",
   "nbconvert_exporter": "python",
   "pygments_lexer": "ipython3",
   "version": "3.12.7"
  }
 },
 "nbformat": 4,
 "nbformat_minor": 5
}
